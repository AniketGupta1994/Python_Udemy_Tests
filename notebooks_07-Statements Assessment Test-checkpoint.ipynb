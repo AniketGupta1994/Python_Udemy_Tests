{
  "metadata": {
    "kernelspec": {
      "name": "python",
      "display_name": "Python (Pyodide)",
      "language": "python"
    },
    "language_info": {
      "codemirror_mode": {
        "name": "python",
        "version": 3
      },
      "file_extension": ".py",
      "mimetype": "text/x-python",
      "name": "python",
      "nbconvert_exporter": "python",
      "pygments_lexer": "ipython3",
      "version": "3.8"
    }
  },
  "nbformat_minor": 4,
  "nbformat": 4,
  "cells": [
    {
      "cell_type": "markdown",
      "source": "___\n\n<a href='https://www.udemy.com/user/joseportilla/'><img src='../Pierian_Data_Logo.png'/></a>\n___\n<center><em>Content Copyright by Pierian Data</em></center>",
      "metadata": {}
    },
    {
      "cell_type": "markdown",
      "source": "# Statements Assessment Test\nLet's test your knowledge!",
      "metadata": {}
    },
    {
      "cell_type": "markdown",
      "source": "_____\n**Use <code>for</code>, .split(), and <code>if</code> to create a Statement that will print out words that start with 's':**",
      "metadata": {}
    },
    {
      "cell_type": "code",
      "source": "st = 'Print only the words that start with s in this sentence'",
      "metadata": {
        "tags": [],
        "trusted": true
      },
      "execution_count": 24,
      "outputs": []
    },
    {
      "cell_type": "code",
      "source": "#Code here\nst = 'Print only the words that start with s in this sentence'\nmylist=st.split()\nfor x in mylist:\n    if x[0]=='s':\n        print(x)\n\n        ",
      "metadata": {
        "tags": [],
        "trusted": true
      },
      "execution_count": 36,
      "outputs": [
        {
          "name": "stdout",
          "text": "start\ns\nsentence\n",
          "output_type": "stream"
        }
      ]
    },
    {
      "cell_type": "markdown",
      "source": "______\n**Use range() to print all the even numbers from 0 to 10.**",
      "metadata": {}
    },
    {
      "cell_type": "code",
      "source": "#Code Here\nmylist=[x for x in range(0,11) if x%2==0]\nmylist\n\n\nlist(range(0,11,2))",
      "metadata": {
        "tags": [],
        "trusted": true
      },
      "execution_count": 32,
      "outputs": [
        {
          "execution_count": 32,
          "output_type": "execute_result",
          "data": {
            "text/plain": "[0, 2, 4, 6, 8, 10]"
          },
          "metadata": {}
        }
      ]
    },
    {
      "cell_type": "markdown",
      "source": "___\n**Use a List Comprehension to create a list of all numbers between 1 and 50 that are divisible by 3.**",
      "metadata": {}
    },
    {
      "cell_type": "code",
      "source": "#Code in this cell\n[]\nmylist=[x for x in range(1,51) if x%3==0]\nmylist",
      "metadata": {
        "tags": [],
        "trusted": true
      },
      "execution_count": 19,
      "outputs": [
        {
          "execution_count": 19,
          "output_type": "execute_result",
          "data": {
            "text/plain": "[3, 6, 9, 12, 15, 18, 21, 24, 27, 30, 33, 36, 39, 42, 45, 48]"
          },
          "metadata": {}
        }
      ]
    },
    {
      "cell_type": "markdown",
      "source": "_____\n**Go through the string below and if the length of a word is even print \"even!\"**",
      "metadata": {}
    },
    {
      "cell_type": "code",
      "source": "st = 'Print every word in this sentence that has an even number of letters'",
      "metadata": {
        "collapsed": true,
        "jupyter": {
          "outputs_hidden": true
        }
      },
      "execution_count": null,
      "outputs": []
    },
    {
      "cell_type": "code",
      "source": "#Code in this cell\nst = 'Print every word in this sentence that has an even number of lettersmylist='\nst_split=st.split()\n\nfor x in st.split():\n    if len(x)%2==0:\n        print(x)\n        \n   ",
      "metadata": {
        "tags": [],
        "trusted": true
      },
      "execution_count": 49,
      "outputs": [
        {
          "name": "stdout",
          "text": "word\nin\nthis\nsentence\nthat\nan\neven\nnumber\nof\nlettersmylist=\n",
          "output_type": "stream"
        }
      ]
    },
    {
      "cell_type": "markdown",
      "source": "____\n**Write a program that prints the integers from 1 to 100. But for multiples of three print \"Fizz\" instead of the number, and for the multiples of five print \"Buzz\". For numbers which are multiples of both three and five print \"FizzBuzz\".**",
      "metadata": {}
    },
    {
      "cell_type": "code",
      "source": "#Code in this cell\n\nfor x in range(1,100):\n    if (x%3==0 and x%5==0):\n        print(\"FizzBuzz\")\n    elif (x%3==0):\n        print(\"Fizz\")\n    elif (x%5==0):\n        print(\"Buzz\")\n    else: \n        print(\"x\")\nresult\n",
      "metadata": {
        "tags": [],
        "trusted": true
      },
      "execution_count": 18,
      "outputs": [
        {
          "name": "stdout",
          "text": "x\nx\nFizz\nx\nBuzz\nFizz\nx\nx\nFizz\nBuzz\nx\nFizz\nx\nx\nFizzBuzz\nx\nx\nFizz\nx\nBuzz\nFizz\nx\nx\nFizz\nBuzz\nx\nFizz\nx\nx\nFizzBuzz\nx\nx\nFizz\nx\nBuzz\nFizz\nx\nx\nFizz\nBuzz\nx\nFizz\nx\nx\nFizzBuzz\nx\nx\nFizz\nx\nBuzz\nFizz\nx\nx\nFizz\nBuzz\nx\nFizz\nx\nx\nFizzBuzz\nx\nx\nFizz\nx\nBuzz\nFizz\nx\nx\nFizz\nBuzz\nx\nFizz\nx\nx\nFizzBuzz\nx\nx\nFizz\nx\nBuzz\nFizz\nx\nx\nFizz\nBuzz\nx\nFizz\nx\nx\nFizzBuzz\nx\nx\nFizz\nx\nBuzz\nFizz\nx\nx\nFizz\n",
          "output_type": "stream"
        },
        {
          "execution_count": 18,
          "output_type": "execute_result",
          "data": {
            "text/plain": "[]"
          },
          "metadata": {}
        }
      ]
    },
    {
      "cell_type": "markdown",
      "source": "____\n**Use List Comprehension to create a list of the first letters of every word in the string below:**",
      "metadata": {}
    },
    {
      "cell_type": "code",
      "source": "st = 'Create a list of the first letters of every word in this string'",
      "metadata": {
        "collapsed": true,
        "jupyter": {
          "outputs_hidden": true
        }
      },
      "execution_count": null,
      "outputs": []
    },
    {
      "cell_type": "code",
      "source": "#Code in this cell\nst = 'Create a list of the first letters of every word in this string'\nfor x in st.split():\n    print (x[0])",
      "metadata": {
        "tags": [],
        "trusted": true
      },
      "execution_count": 51,
      "outputs": [
        {
          "name": "stdout",
          "text": "C\na\nl\no\nt\nf\nl\no\ne\nw\ni\nt\ns\n",
          "output_type": "stream"
        }
      ]
    },
    {
      "cell_type": "markdown",
      "source": "### Great Job!",
      "metadata": {}
    }
  ]
}